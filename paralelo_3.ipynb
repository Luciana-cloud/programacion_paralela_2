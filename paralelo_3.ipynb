{
 "cells": [
  {
   "cell_type": "markdown",
   "id": "f2a00919-6a3a-4033-9031-b3fbd3a504b6",
   "metadata": {},
   "source": [
    "# Refrescando: Jupyter notebooks"
   ]
  },
  {
   "cell_type": "markdown",
   "id": "88bcd410-2d49-4a85-a5eb-f80fe82d0f37",
   "metadata": {},
   "source": [
    "Plataforma equipada con kernels para usar diferentes lenguajes de programación como C++, Python, R, Julia, etc., sin la necesidad de instalar alguno de estos programas. "
   ]
  },
  {
   "cell_type": "markdown",
   "id": "0ca13809-e123-4655-b666-e99f0c53129c",
   "metadata": {},
   "source": [
    "## Ejemplo 1: Hello World in C"
   ]
  },
  {
   "cell_type": "markdown",
   "id": "21e6d89b-7773-4512-801b-4358718db083",
   "metadata": {},
   "source": [
    "En este ejemplo, vamos a recordar como correr un job simple \"Hello World\" para refrescar nuestros conocimientos en Jupyter notebook."
   ]
  },
  {
   "cell_type": "markdown",
   "id": "76b18a15-9657-49d8-9bd7-d17358fed55f",
   "metadata": {},
   "source": [
    "1. El primer paso es crear nuestro archivo fuente \"Hello World\". En una nueva celda en Jupyter notebooks ejecutar la función “%%writefile”. “writefile” permite escribir un código en jupyter notebooks y guardarlo como file. En este caso y dado que queremos escribir un archivo fuente en C vamos a colocar luego de writefile el nombre de nuestro file con la extensión .cpp. Para inicializar el archivo, debemos de usar en el inicio \"#include <stdio.h>\" que indica al compilador insertar el contenido de la librería estandar stdio en el archivo fuente que estamos creando. Finalmente escribimos el cuerpo de la función “hello world”. int main indica que nuestra función debe regresar un valor integer al final de la ejecución del programa. Por ello, como buena práctica terminamos el código con return 0; \n",
    "La función “printf” viene del término en inglés imprimir con formato \"print formatted\" e imprime un string o conjunto de caracteres en C."
   ]
  },
  {
   "cell_type": "code",
   "execution_count": 1,
   "id": "60c76113-5de9-4de6-ba97-439279e4ae09",
   "metadata": {},
   "outputs": [
    {
     "name": "stdout",
     "output_type": "stream",
     "text": [
      "Writing Hello_C.cpp\n"
     ]
    }
   ],
   "source": [
    "%%writefile Hello_C.cpp\n",
    "#include <stdio.h>\n",
    "\n",
    "int main()\n",
    "{\n",
    "    printf(\"Hello World\");\n",
    "\n",
    "    return 0;\n",
    "}"
   ]
  },
  {
   "cell_type": "markdown",
   "id": "1ebb891a-980f-4df1-8466-4f63d8a67342",
   "metadata": {},
   "source": [
    "2. Este archivo debe ser compilado primero y ejecutado para poder observar nuestro “Hello World”. Para ello debemos crear un archivo de extensión .pbs y colocar el nombre del job (-N), y darle los recursos necesarios para que el job corra cómo el número de nodos (nodes) o el tiempo requerido para que corra el job (walltime).  "
   ]
  },
  {
   "cell_type": "code",
   "execution_count": 5,
   "id": "facff14d-2c26-4b7d-ba6d-cdd65a7fc6ba",
   "metadata": {},
   "outputs": [
    {
     "name": "stdout",
     "output_type": "stream",
     "text": [
      "Overwriting compi_hello.pbs\n"
     ]
    }
   ],
   "source": [
    "%%writefile compi_hello.pbs\n",
    "#PBS -S /bin/bash\n",
    "#\n",
    "#PBS -N hello\n",
    "#PBS -l nodes=1,walltime=00:05:00\n",
    "#\n",
    "dpcpp -o /home/u163586/computacion_paralela_3/run_plus /home/u163586/computacion_paralela_3/Hello_C.cpp\n",
    "\n",
    "/home/u163586/computacion_paralela_3/run_plus"
   ]
  },
  {
   "cell_type": "markdown",
   "id": "ba29df90-eea6-4bc5-8c4e-de1e9fe41f47",
   "metadata": {},
   "source": [
    "3. Ejecutar el archivo hello world compilado usando el archivo \"compi_hello.pbs\""
   ]
  },
  {
   "cell_type": "code",
   "execution_count": 8,
   "id": "399c5458-c7e0-4886-82b8-f259f61dfd50",
   "metadata": {},
   "outputs": [
    {
     "name": "stdout",
     "output_type": "stream",
     "text": [
      "2055190.v-qsvr-1.aidevcloud\n"
     ]
    }
   ],
   "source": [
    "!qsub compi_hello.pbs"
   ]
  },
  {
   "cell_type": "code",
   "execution_count": 9,
   "id": "5e365cb7-cb62-4455-9327-e786d784cde8",
   "metadata": {},
   "outputs": [
    {
     "name": "stdout",
     "output_type": "stream",
     "text": [
      "Job ID                    Name             User            Time Use S Queue\n",
      "------------------------- ---------------- --------------- -------- - -----\n",
      "2055179.v-qsvr-1           ...ub-singleuser u163586         00:00:15 R jupyterhub     \n",
      "2055190.v-qsvr-1           hello            u163586                0 R batch          \n"
     ]
    }
   ],
   "source": [
    "!qstat"
   ]
  },
  {
   "cell_type": "markdown",
   "id": "fd193471-f604-463d-9f5d-ba08469efddd",
   "metadata": {},
   "source": [
    "# Introducción a SYCL"
   ]
  },
  {
   "cell_type": "markdown",
   "id": "6cb5e40e-02f4-4903-96d1-b88af931e9a1",
   "metadata": {},
   "source": [
    "- SYCL es un lenguaje de programación basado en C ++ y orientado principalmente para programación paralela.\n",
    "\n",
    "- Es un sistema denominado de fuente simple. A diferencia de C, SYCL requiere de dos sistemas de compilación, uno para el usuario y otro para el device deseado. Sin embargo, al compilar, solo un ejecutable es producido y este ejecutable es usado para ambos usuario y device.\n",
    "\n",
    "- Es un sistema que se denomina de alto nivel de abstracción y puede ser aplicado a dispositivos electrónicos heterogéneos."
   ]
  },
  {
   "cell_type": "markdown",
   "id": "5e16baa7-d8b8-4657-9d49-f247ffe20dac",
   "metadata": {},
   "source": [
    "### Implementaciones de SYCL"
   ]
  },
  {
   "cell_type": "markdown",
   "id": "ef3659a0-d6ac-4514-9dee-212a35f02d40",
   "metadata": {},
   "source": [
    "SYCL está disponible para muchos API backends y dispositivos electrónicos tal y como se presenta en la siguiente figura.\n",
    "\n",
    "![alt text](2020-05-sycl-landing-page-02b_1.jpg)\n",
    "*source: https://www.khronos.org/api/index_2017/sycl*"
   ]
  },
  {
   "cell_type": "markdown",
   "id": "78bf4447-0230-4e5c-9889-87b421de4807",
   "metadata": {},
   "source": [
    "### Cómo implementar SYCL?"
   ]
  },
  {
   "cell_type": "markdown",
   "id": "1102e67d-5b8a-422e-9981-95ba2f284e88",
   "metadata": {},
   "source": [
    "Para implementar un código SYCL se requiere los siguientes implementos:\n",
    "\n",
    "1. SYCL API o la librería de C++ que contiene las aplicaciones de SYCL\n",
    "\n",
    "2. SYCL runtime o tiempo de corrida que programa y ejecuta el código, lo compila, carga la data, los kernels, etc\n",
    "\n",
    "3. Dispositivo electrónico (Host) que emula el backend de SYCL\n",
    "\n",
    "4. Un backend como OpenCL\n",
    "\n",
    "5. SYCL compilador que es similar a un compilador de C++"
   ]
  },
  {
   "cell_type": "code",
   "execution_count": null,
   "id": "f3d379fd-cfb9-435d-97b0-567ab7c4f394",
   "metadata": {},
   "outputs": [],
   "source": []
  }
 ],
 "metadata": {
  "kernelspec": {
   "display_name": "Python 3 (Intel® oneAPI 2022.3)",
   "language": "python",
   "name": "c009-intel_distribution_of_python_3_oneapi-beta05-python"
  },
  "language_info": {
   "codemirror_mode": {
    "name": "ipython",
    "version": 3
   },
   "file_extension": ".py",
   "mimetype": "text/x-python",
   "name": "python",
   "nbconvert_exporter": "python",
   "pygments_lexer": "ipython3",
   "version": "3.9.13"
  }
 },
 "nbformat": 4,
 "nbformat_minor": 5
}
