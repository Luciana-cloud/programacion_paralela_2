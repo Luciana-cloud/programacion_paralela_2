{
 "cells": [
  {
   "cell_type": "markdown",
   "id": "0984a29d-c974-4576-8023-59dcb405a044",
   "metadata": {},
   "source": [
    "# Programación paralela 2 - DevCloud y Jupyter notebooks"
   ]
  },
  {
   "cell_type": "markdown",
   "id": "bb267807-bccf-4db2-ab93-669f7cbcc29f",
   "metadata": {},
   "source": [
    "Plataforma equipada con kernels para usar diferentes lenguajes de programación como C++, Python, R, Julia, etc., sin la necesidad de instalar alguno de estos programas. Tal vez la aplicación más conocida de Jupyter notebooks es con Python y [Anaconda](https://anaconda.org/anaconda/jupyter). \n",
    "DevCloud cuenta con una plataforma de Jupyter notebooks que puede ser encontrada en el siguiente [link](https://devcloud.intel.com/oneapi/get_started). No olvidar estar conectado a DevCloud. Un vez abierto Jupyter notebooks, seleccionar un kernel para poder ejecutar los procesos en DevCloud. \n",
    "La interfaz de Jupyter notebooks que contiene los notebooks donde podemos visualizar código y resultados juntos, alternando programas y Markdown. La consola se asemeja al terminal o shell y es favorable para proyectos pequeños. Asimismo tenemos otros que incluyen el terminal de DevCloud (similar a lo que se visualiza en MobaXterm), archivos Markdown, Python IDLE, etc. Cada vez que se requiera, se puede hacer click en cada uno para abrir y guardar. "
   ]
  },
  {
   "cell_type": "markdown",
   "id": "536cd1e9-db00-4500-897e-aef005dd27e9",
   "metadata": {
    "tags": []
   },
   "source": [
    "## Ejemplo 1: Python y Jupyter notebooks"
   ]
  },
  {
   "cell_type": "markdown",
   "id": "39a4dbb7-5ec9-4af6-a4e9-55128f9e6b78",
   "metadata": {},
   "source": [
    "En este ejercio vamos a probar un ejemplo simple en python. Por ejemplo, comencemos importanto el paquete numérico numpy que es muy usado en python y el paquete matplotlib para poder hacer gráficos. "
   ]
  },
  {
   "cell_type": "code",
   "execution_count": 1,
   "id": "9b289024-0e05-4bf6-bd7c-ceb78b3ff2e8",
   "metadata": {},
   "outputs": [],
   "source": [
    "import numpy  as np\n",
    "import matplotlib.pyplot as plt"
   ]
  },
  {
   "cell_type": "markdown",
   "id": "69533c73-cc2b-44ed-8705-a94a4296fd35",
   "metadata": {},
   "source": [
    "Vamos a crear una función super simple que es la función seno. Para ello primero creamos un vector x que tiene un intervalo de 2$\\pi$ a 10$\\pi$ y luego un vector y que corre la función seno. Con el comando plt.plot se puede plotear la función seno. "
   ]
  },
  {
   "cell_type": "code",
   "execution_count": 2,
   "id": "a7d2cfaa-a914-46e3-b635-92ab5bdc8751",
   "metadata": {},
   "outputs": [
    {
     "data": {
      "image/png": "[encoded data removed]",
      "text/plain": [
       "<Figure size 432x288 with 1 Axes>"
      ]
     },
     "metadata": {
      "needs_background": "light"
     },
     "output_type": "display_data"
    }
   ],
   "source": [
    "x = np.arange(2*np.pi,10*np.pi,0.1)   # inicio,final,intervalo\n",
    "y = np.sin(x)\n",
    "\n",
    "plt.plot(x,y)\n",
    "plt.show()"
   ]
  },
  {
   "cell_type": "markdown",
   "id": "14d350af-fdc2-4571-84de-c81a2a4cd91c",
   "metadata": {
    "tags": []
   },
   "source": [
    "## Ejemplo 2: Subir un job a través de Jupyter notebooks"
   ]
  },
  {
   "cell_type": "markdown",
   "id": "d2c730c6-e30c-49bd-b428-82dd23a14c06",
   "metadata": {},
   "source": [
    "Similar como hicimos en DevCloud podemos subir un job con el comando !qsub y nuestro archivo que escribimos con la extensión .pbs or .sh, etc. Primero vamos a crear el archivo de extensión .pbs con la función %%writefile."
   ]
  },
  {
   "cell_type": "code",
   "execution_count": 3,
   "id": "2145b10d-b510-4ab9-93cc-55cd9a365727",
   "metadata": {},
   "outputs": [
    {
     "name": "stdout",
     "output_type": "stream",
     "text": [
      "Writing ejemplo_3.pbs\n"
     ]
    }
   ],
   "source": [
    "%%writefile ejemplo_3.pbs\n",
    "#PBS -S /bin/bash\n",
    "#\n",
    "#PBS -N ejemplo_3\n",
    "#PBS -l nodes=1,walltime=00:05:00\n",
    "#\n",
    "#imprimir la hora y la fecha\n",
    "date\n",
    "\n",
    "#esperar 10 segundos\n",
    "sleep 10\n",
    "\n",
    "#imprimir la hora y la fecha otra vez\n",
    "date"
   ]
  },
  {
   "cell_type": "markdown",
   "id": "ed5232d4-3f96-4839-8925-419ab8db4d63",
   "metadata": {},
   "source": [
    "Se sube el job con la función !qsub en lugar de solo qsub como se hacía en el terminal de DevCloud. Una vez que se haya aceptado el job, se va a generar como un código y ese código puede ayudar a revisar el resultado del job una vez que haya terminado de correr. "
   ]
  },
  {
   "cell_type": "code",
   "execution_count": 4,
   "id": "c1960736-0509-40f7-8038-e3f67612b448",
   "metadata": {},
   "outputs": [
    {
     "name": "stdout",
     "output_type": "stream",
     "text": [
      "1987988.v-qsvr-1.aidevcloud\n"
     ]
    }
   ],
   "source": [
    "!qsub ejemplo_3.pbs"
   ]
  },
  {
   "cell_type": "markdown",
   "id": "24ea4923-a01a-4cb3-9b38-18afc7256244",
   "metadata": {},
   "source": [
    "Podemos usar !qstat para poder ver el status de nuestro job"
   ]
  },
  {
   "cell_type": "code",
   "execution_count": 5,
   "id": "be89126b-7475-4b7c-8daf-20ad26367493",
   "metadata": {},
   "outputs": [
    {
     "name": "stdout",
     "output_type": "stream",
     "text": [
      "Job ID                    Name             User            Time Use S Queue\n",
      "------------------------- ---------------- --------------- -------- - -----\n",
      "1987936.v-qsvr-1           ...ub-singleuser u163586         00:00:32 R jupyterhub     \n",
      "1987988.v-qsvr-1           ejemplo_3        u163586                0 R batch          \n"
     ]
    }
   ],
   "source": [
    "!qstat"
   ]
  },
  {
   "cell_type": "markdown",
   "id": "d7d49640-e287-4e6b-9e1a-daf32c2562be",
   "metadata": {},
   "source": [
    "Existe dos outputs que se producen cuando se sube un job. El archivo con extensión \".o\" nos muestra el resultado del job y el archivo de extensión \".e\" nos muestra si hay algún error."
   ]
  },
  {
   "cell_type": "markdown",
   "id": "c2a22008-0233-425c-92f7-33b4a2525c0e",
   "metadata": {},
   "source": [
    "## Ejercicio 3 : Hello world"
   ]
  },
  {
   "cell_type": "markdown",
   "id": "d65bef05-66d2-4a1f-832d-18c30dda3296",
   "metadata": {},
   "source": [
    "Vamos a realizar el típico programa hello world en C y en C++. "
   ]
  },
  {
   "cell_type": "markdown",
   "id": "7c78b859-5ff9-43ec-bf9c-b6f2b7ee660d",
   "metadata": {},
   "source": [
    "### Ejercicio de Hello World en C"
   ]
  },
  {
   "cell_type": "markdown",
   "id": "34f9dfd1-9284-4dac-8ae6-80b9d66fae5e",
   "metadata": {},
   "source": [
    "- “writefile” permite escribir un código en jupyter notebooks y guardarlo como file. En este caso y dado que queremos escribir un archivo fuente en C vamos a colocar luego de writefile el nombre de nuestro file con la extensión .cpp. \n",
    "- Para inicializar el archivo, debemos de usar en el inicio \"#include <stdio.h>\" que indica al compilador insertar el contenido de la librería estandar stdio en el archivo fuente que estamos creando.\n",
    "- Finalmente escribimos el cuerpo de la función “hello world”: int main indica que nuestra función debe regresar un valor integer al final de la ejecución del programa. Por ello, como buena práctica terminamos el código con return 0;. La función “printf” viene del término en inglés imprimir con formato \"print formatted\" e imprime un string o conjunto de caracteres en C. Para mayor información, visitar el siguiente [link](https://cplusplus.com/reference/cstdio/printf/)."
   ]
  },
  {
   "cell_type": "code",
   "execution_count": 6,
   "id": "14f02cb8-e47e-4f36-b651-7110b59395a9",
   "metadata": {},
   "outputs": [
    {
     "name": "stdout",
     "output_type": "stream",
     "text": [
      "Writing hello_C.cpp\n"
     ]
    }
   ],
   "source": [
    "%%writefile hello_C.cpp\n",
    "\n",
    "#include <stdio.h>\n",
    "\n",
    "int main()\n",
    "{\n",
    "    printf(\"Hello World\");\n",
    "\n",
    "    return 0;\n",
    "}"
   ]
  },
  {
   "cell_type": "markdown",
   "id": "1f274abf-4547-4972-bb1b-8e8f355dfb04",
   "metadata": {},
   "source": [
    "Hemos producido el archivo vuente \"hello_C.cpp\" y ahora tenemos que ejecutarlo. Vamos a usar el compilador dpcpp que es el compilador de INTEL."
   ]
  },
  {
   "cell_type": "code",
   "execution_count": 7,
   "id": "73967239-c760-4f84-891a-89a9fd3d4413",
   "metadata": {},
   "outputs": [
    {
     "name": "stdout",
     "output_type": "stream",
     "text": [
      "Writing compi_c.pbs\n"
     ]
    }
   ],
   "source": [
    "%%writefile compi_c.pbs\n",
    "#PBS -S /bin/bash\n",
    "#\n",
    "#PBS -N hello3\n",
    "#PBS -l nodes=1,walltime=00:05:00\n",
    "#\n",
    "dpcpp -o /home/u163586/test/programacion_paralela_2/compi_hello_c /home/u163586/test/programacion_paralela_2/hello_C.cpp\n",
    "\n",
    "/home/u163586/test/programacion_paralela_2/compi_hello_c"
   ]
  },
  {
   "cell_type": "code",
   "execution_count": 8,
   "id": "1231e993-87e6-4771-a372-b1e80842c34c",
   "metadata": {},
   "outputs": [
    {
     "name": "stdout",
     "output_type": "stream",
     "text": [
      "1987991.v-qsvr-1.aidevcloud\n"
     ]
    }
   ],
   "source": [
    "!qsub compi_c.pbs"
   ]
  },
  {
   "cell_type": "code",
   "execution_count": 9,
   "id": "f8d22f3d-116b-4831-a269-199bf8cac344",
   "metadata": {},
   "outputs": [
    {
     "name": "stdout",
     "output_type": "stream",
     "text": [
      "Job ID                    Name             User            Time Use S Queue\n",
      "------------------------- ---------------- --------------- -------- - -----\n",
      "1987936.v-qsvr-1           ...ub-singleuser u163586         00:00:34 R jupyterhub     \n",
      "1987991.v-qsvr-1           hello3           u163586                0 R batch          \n"
     ]
    }
   ],
   "source": [
    "!qstat"
   ]
  },
  {
   "cell_type": "markdown",
   "id": "59a3d290-ad7a-40a5-8a64-1acd372db706",
   "metadata": {},
   "source": [
    "### Ejercicio de Hello World en C++"
   ]
  },
  {
   "cell_type": "markdown",
   "id": "77cc3927-4196-4284-a293-ba1b3a502ed2",
   "metadata": {},
   "source": [
    "- Del mismo modo que el programa en C, en una celda se inicia el programa con la función %%writefile y el nombre del archivo con la extensión .cpp. \n",
    "- El equivalente a \"#include <stdio.h>\" en C++ es \"#include <iostream>\" y nos permite usar la función “cout” que es el equivalente de “printf” en C++.\n",
    "- La sintáxis de cout y iostream en C++ difiere un poco de C. En este caso std juntamente con cout se usan para representar e imprimir la serie de caracteres, en este caso, “Hello world”. << es parte de la sintáxis de C++ y antecede al conjunto de caracteres o string. "
   ]
  },
  {
   "cell_type": "code",
   "execution_count": 10,
   "id": "bd45d511-d91e-471d-a224-d36f77eaf7df",
   "metadata": {},
   "outputs": [
    {
     "name": "stdout",
     "output_type": "stream",
     "text": [
      "Writing hello_Cplus.cpp\n"
     ]
    }
   ],
   "source": [
    "%%writefile hello_Cplus.cpp\n",
    "#include <iostream>\n",
    "\n",
    "int main() {\n",
    "    std::cout << \"Hello World!\";\n",
    "    return 0;\n",
    "}"
   ]
  },
  {
   "cell_type": "code",
   "execution_count": 11,
   "id": "435b4013-c2e1-439b-b2d8-9f3e0eba8733",
   "metadata": {},
   "outputs": [
    {
     "name": "stdout",
     "output_type": "stream",
     "text": [
      "Writing compi_cplus.pbs\n"
     ]
    }
   ],
   "source": [
    "%%writefile compi_cplus.pbs\n",
    "#PBS -S /bin/bash\n",
    "#\n",
    "#PBS -N hello3\n",
    "#PBS -l nodes=1,walltime=00:05:00\n",
    "#\n",
    "dpcpp -o /home/u163586/test/programacion_paralela_2/compi_hello_plus /home/u163586/test/programacion_paralela_2/hello_Cplus.cpp\n",
    "\n",
    "/home/u163586/test/programacion_paralela_2/compi_hello_plus"
   ]
  },
  {
   "cell_type": "code",
   "execution_count": 12,
   "id": "f1ff19bd-3403-4e20-8693-3df0ef4fca5d",
   "metadata": {},
   "outputs": [
    {
     "name": "stdout",
     "output_type": "stream",
     "text": [
      "1987992.v-qsvr-1.aidevcloud\n"
     ]
    }
   ],
   "source": [
    "!qsub compi_cplus.pbs"
   ]
  },
  {
   "cell_type": "code",
   "execution_count": 13,
   "id": "74a0c46b-e7d8-497a-88cf-5bf92cdcbe9a",
   "metadata": {},
   "outputs": [
    {
     "name": "stdout",
     "output_type": "stream",
     "text": [
      "Job ID                    Name             User            Time Use S Queue\n",
      "------------------------- ---------------- --------------- -------- - -----\n",
      "1987936.v-qsvr-1           ...ub-singleuser u163586         00:00:36 R jupyterhub     \n",
      "1987992.v-qsvr-1           hello3           u163586                0 R batch          \n"
     ]
    }
   ],
   "source": [
    "!qstat"
   ]
  },
  {
   "cell_type": "markdown",
   "id": "63cd4ee3-2e78-489e-808c-c2172a07e873",
   "metadata": {},
   "source": [
    "### Suma de vectores"
   ]
  },
  {
   "cell_type": "code",
   "execution_count": 5,
   "id": "b29111d4-97e4-47fa-b8e4-cb1e810135a7",
   "metadata": {},
   "outputs": [
    {
     "name": "stdout",
     "output_type": "stream",
     "text": [
      "Overwriting suma1.cpp\n"
     ]
    }
   ],
   "source": [
    "%%writefile suma1.cpp\n",
    "#include <stdio.h>\n",
    "\n",
    "int main()\n",
    "{\n",
    " int i=3,j=7,k; /* Variables Defining and Assign values */ \n",
    " float a=3.5,b=5.1;\n",
    "\n",
    " k=b+a;\n",
    " printf(\"sum of two numbers is %d\\n\", k);\n",
    "    return 0;\n",
    "}\n"
   ]
  },
  {
   "cell_type": "code",
   "execution_count": 6,
   "id": "ffaf3ecd-32e9-4c37-9f03-ad5a8895e217",
   "metadata": {},
   "outputs": [
    {
     "name": "stdout",
     "output_type": "stream",
     "text": [
      "1979174.v-qsvr-1.aidevcloud\n"
     ]
    }
   ],
   "source": [
    "!qsub compi2.pbs"
   ]
  },
  {
   "cell_type": "code",
   "execution_count": 10,
   "id": "8ad7fc67-b95e-42bf-9d45-a02cd0f04d93",
   "metadata": {},
   "outputs": [
    {
     "name": "stdout",
     "output_type": "stream",
     "text": [
      "Job ID                    Name             User            Time Use S Queue\n",
      "------------------------- ---------------- --------------- -------- - -----\n",
      "1979161.v-qsvr-1           ...ub-singleuser u163586         00:00:13 R jupyterhub     \n"
     ]
    }
   ],
   "source": [
    "!qstat"
   ]
  },
  {
   "cell_type": "code",
   "execution_count": 42,
   "id": "fc33d18d-148d-4c36-bf8f-df39fbb58e69",
   "metadata": {},
   "outputs": [
    {
     "name": "stdout",
     "output_type": "stream",
     "text": [
      "Cloning into 'EssentialsOfParallelComputing'...\n",
      "remote: Enumerating objects: 96, done.\u001b[K\n",
      "remote: Counting objects: 100% (96/96), done.\u001b[K\n",
      "remote: Compressing objects: 100% (74/74), done.\u001b[K\n",
      "remote: Total 96 (delta 42), reused 72 (delta 22), pack-reused 0\u001b[K\n",
      "Unpacking objects: 100% (96/96), 18.46 KiB | 35.00 KiB/s, done.\n"
     ]
    }
   ],
   "source": [
    "!git clone https://github.com/essentialsofparallelcomputing/EssentialsOfParallelComputing.git"
   ]
  },
  {
   "cell_type": "code",
   "execution_count": 1,
   "id": "5b5b79bf-ad0a-4bb5-81e6-f7fd6b11091f",
   "metadata": {},
   "outputs": [
    {
     "name": "stdout",
     "output_type": "stream",
     "text": [
      "Writing ejemplo1.pbs\n"
     ]
    }
   ],
   "source": [
    "%%writefile ejemplo1.pbs\n",
    "#PBS -S /bin/bash\n",
    "#\n",
    "#This is an example script example.sh\n",
    "#\n",
    "#These commands set up the Grid Environment for your job:\n",
    "#PBS -N ExampleJob\n",
    "#PBS -l nodes=1,walltime=00:05:00\n",
    "#PBS -M luciana.ch41@gmail.com\n",
    "#PBS -m abe\n",
    "\n",
    "#print the time and date\n",
    "date\n",
    "\n",
    "#wait 10 seconds\n",
    "sleep 10\n",
    "\n",
    "#print the time and date again\n",
    "date"
   ]
  },
  {
   "cell_type": "code",
   "execution_count": 3,
   "id": "1365fd7a-411d-4c07-a5c1-93a1070ee711",
   "metadata": {},
   "outputs": [
    {
     "name": "stdout",
     "output_type": "stream",
     "text": [
      "1985820.v-qsvr-1.aidevcloud\n"
     ]
    }
   ],
   "source": [
    "!qsub ejemplo1.pbs"
   ]
  },
  {
   "cell_type": "code",
   "execution_count": 5,
   "id": "72c19d43-f967-4f1f-9b61-315dd7b08fc7",
   "metadata": {},
   "outputs": [
    {
     "name": "stdout",
     "output_type": "stream",
     "text": [
      "Job ID                    Name             User            Time Use S Queue\n",
      "------------------------- ---------------- --------------- -------- - -----\n",
      "1985807.v-qsvr-1           ...ub-singleuser u163586         00:00:08 R jupyterhub     \n"
     ]
    }
   ],
   "source": [
    "!qstat"
   ]
  },
  {
   "cell_type": "markdown",
   "id": "fa81bcac-5af5-4e71-b028-b3080fa25c11",
   "metadata": {},
   "source": [
    "## GIT : Git ignore file"
   ]
  },
  {
   "cell_type": "markdown",
   "id": "3bfaa69e-4270-476d-a08e-04778a1bf7f7",
   "metadata": {},
   "source": [
    "Como estamos conectando este archivo a github no queremos que algunos archivos intermediarios sean incluidos. Para eso vamos a crear el archivo de extensión .gitignore y vamos a guardar aquí archivos de outputs de los jobs por ejemplo o archivos pbs que los vamos a reescribir una y otra vez. "
   ]
  },
  {
   "cell_type": "code",
   "execution_count": 21,
   "id": "4175e9a9-820d-4e6b-944a-1d24aba97d21",
   "metadata": {},
   "outputs": [
    {
     "name": "stdout",
     "output_type": "stream",
     "text": [
      "Overwriting .gitignore\n"
     ]
    }
   ],
   "source": [
    "%%writefile .gitignore\n",
    "*.cpp\n",
    "*.pbs\n",
    "hello?.o???????\n",
    "hello?.e???????\n",
    "ejemplo_3.o???????\n",
    "ejemplo_3.e???????\n",
    "*compi_hello_c\n",
    "*compi_hello_plus"
   ]
  },
  {
   "cell_type": "code",
   "execution_count": null,
   "id": "5055ea9a-420a-424a-8d7c-6a44e9a132e7",
   "metadata": {},
   "outputs": [],
   "source": []
  }
 ],
 "metadata": {
  "kernelspec": {
   "display_name": "Python 3.8 (Intel® oneAPI)",
   "language": "python",
   "name": "c009-intel_distribution_of_python_3_oneapi-beta05-python"
  },
  "language_info": {
   "codemirror_mode": {
    "name": "ipython",
    "version": 3
   },
   "file_extension": ".py",
   "mimetype": "text/x-python",
   "name": "python",
   "nbconvert_exporter": "python",
   "pygments_lexer": "ipython3",
   "version": "3.9.10"
  }
 },
 "nbformat": 4,
 "nbformat_minor": 5
}
